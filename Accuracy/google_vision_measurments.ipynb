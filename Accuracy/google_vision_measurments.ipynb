{
 "cells": [
  {
   "cell_type": "code",
   "execution_count": 2,
   "metadata": {},
   "outputs": [
    {
     "name": "stdout",
     "output_type": "stream",
     "text": [
      "accuracy = 0.9466666666666667\n",
      "Ocr Text : We start With Good\n",
      " Because all businesses should be doing something good\n",
      "Actual Text : We Start With Good\n",
      " Becuase all businesses should\n",
      " be doning something good\n"
     ]
    }
   ],
   "source": [
    "from difflib import SequenceMatcher\n",
    "\n",
    "ground_value = \"We Start With Good\\n Becuase all businesses should\\n be doning something good\"\n",
    "ocr_value = \"We start With Good\\n Because all businesses should be doing something good\"\n",
    "\n",
    "sm = SequenceMatcher(None, ocr_value, ground_value)\n",
    "true_positive_char_num = 0\n",
    "for tag, i1, i2, j1, j2 in sm.get_opcodes():\n",
    "  if tag== 'equal':\n",
    "    true_positive_char_num += (j2 - j1)\n",
    "  else:\n",
    "    pass\n",
    "\n",
    "print(f'accuracy = {true_positive_char_num/len(ground_value)}')\n",
    "print(f'Ocr Text : {ocr_value}\\nActual Text : {ground_value}')"
   ]
  },
  {
   "cell_type": "code",
   "execution_count": 3,
   "metadata": {},
   "outputs": [
    {
     "name": "stdout",
     "output_type": "stream",
     "text": [
      "4.109589041095891 16.666666666666668\n"
     ]
    }
   ],
   "source": [
    "from asrtoolkit import wer, cer\n",
    "print(cer(ground_value, ocr_value),wer(ground_value, ocr_value))"
   ]
  }
 ],
 "metadata": {
  "interpreter": {
   "hash": "7085220a67382105aa5b4c484e92d6d1458310670eac078ca44f98015c944f25"
  },
  "kernelspec": {
   "display_name": "Python 3.9.7 64-bit",
   "language": "python",
   "name": "python3"
  },
  "language_info": {
   "codemirror_mode": {
    "name": "ipython",
    "version": 3
   },
   "file_extension": ".py",
   "mimetype": "text/x-python",
   "name": "python",
   "nbconvert_exporter": "python",
   "pygments_lexer": "ipython3",
   "version": "3.9.7"
  },
  "orig_nbformat": 4
 },
 "nbformat": 4,
 "nbformat_minor": 2
}
