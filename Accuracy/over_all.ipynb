{
 "cells": [
  {
   "cell_type": "markdown",
   "metadata": {},
   "source": [
    "## Google Vision"
   ]
  },
  {
   "cell_type": "code",
   "execution_count": 6,
   "metadata": {},
   "outputs": [],
   "source": [
    "from asrtoolkit import wer, cer\n",
    "\n",
    "ground_value = \"We Start With Good\\n Because all businesses should\\n be doing something good\"\n",
    "hypothesis =   \"We start With Good\\n Because all businesses should be doing something good\"\n",
    "\n",
    "w_error = wer(ground_value, hypothesis)\n",
    "c_error = cer(ground_value, hypothesis)"
   ]
  },
  {
   "cell_type": "code",
   "execution_count": 8,
   "metadata": {},
   "outputs": [
    {
     "name": "stdout",
     "output_type": "stream",
     "text": [
      "0.0 0.0\n"
     ]
    }
   ],
   "source": [
    "print(w_error, c_error)"
   ]
  },
  {
   "cell_type": "markdown",
   "metadata": {},
   "source": [
    "## Tesserract"
   ]
  },
  {
   "cell_type": "code",
   "execution_count": 9,
   "metadata": {},
   "outputs": [],
   "source": [
    "\n",
    "from asrtoolkit import wer, cer\n",
    "\n",
    "ground_value = \"We Start With Good\\n Because all businesses should\\n be doing something good\"\n",
    "hypothesis =   \"We Stoel With Good\\n Because “all ; bust nésses should\\n be, doing Something geod.\"\n",
    "\n",
    "w_error = wer(ground_value, hypothesis)\n",
    "c_error = cer(ground_value, hypothesis)"
   ]
  },
  {
   "cell_type": "code",
   "execution_count": 10,
   "metadata": {},
   "outputs": [
    {
     "name": "stdout",
     "output_type": "stream",
     "text": [
      "33.333333333333336 9.722222222222221\n"
     ]
    }
   ],
   "source": [
    "print(w_error, c_error)"
   ]
  },
  {
   "cell_type": "markdown",
   "metadata": {},
   "source": [
    "## EasyOcr"
   ]
  },
  {
   "cell_type": "code",
   "execution_count": 11,
   "metadata": {},
   "outputs": [],
   "source": [
    "\n",
    "from asrtoolkit import wer, cer\n",
    "\n",
    "ground_value = \"We Start With Good\\n Because all businesses should\\n be doing something good\"\n",
    "hypothesis =   \"We Stact With Good\\n Because all businesses should\\n be doinq SomLthing 9o4\"\n",
    "\n",
    "w_error = wer(ground_value, hypothesis)\n",
    "c_error = cer(ground_value, hypothesis)"
   ]
  },
  {
   "cell_type": "code",
   "execution_count": 13,
   "metadata": {},
   "outputs": [
    {
     "name": "stdout",
     "output_type": "stream",
     "text": [
      "50.0 16.666666666666668\n"
     ]
    }
   ],
   "source": [
    "print(w_error, c_error)"
   ]
  },
  {
   "cell_type": "code",
   "execution_count": 14,
   "metadata": {},
   "outputs": [
    {
     "data": {
      "text/plain": [
       "74"
      ]
     },
     "execution_count": 14,
     "metadata": {},
     "output_type": "execute_result"
    }
   ],
   "source": [
    "len(ground_value)"
   ]
  }
 ],
 "metadata": {
  "interpreter": {
   "hash": "7085220a67382105aa5b4c484e92d6d1458310670eac078ca44f98015c944f25"
  },
  "kernelspec": {
   "display_name": "Python 3.9.7 64-bit",
   "language": "python",
   "name": "python3"
  },
  "language_info": {
   "codemirror_mode": {
    "name": "ipython",
    "version": 3
   },
   "file_extension": ".py",
   "mimetype": "text/x-python",
   "name": "python",
   "nbconvert_exporter": "python",
   "pygments_lexer": "ipython3",
   "version": "3.9.7"
  },
  "orig_nbformat": 4
 },
 "nbformat": 4,
 "nbformat_minor": 2
}
